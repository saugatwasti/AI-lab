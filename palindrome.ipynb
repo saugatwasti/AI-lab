{
  "nbformat": 4,
  "nbformat_minor": 0,
  "metadata": {
    "colab": {
      "provenance": []
    },
    "kernelspec": {
      "name": "python3",
      "display_name": "Python 3"
    },
    "language_info": {
      "name": "python"
    }
  },
  "cells": [
    {
      "cell_type": "code",
      "execution_count": 7,
      "metadata": {
        "colab": {
          "base_uri": "https://localhost:8080/"
        },
        "id": "oRBrsGusgK4k",
        "outputId": "006c177e-ecba-4fdc-91f1-eea799464573"
      },
      "outputs": [
        {
          "output_type": "stream",
          "name": "stdout",
          "text": [
            "Enter a number121\n",
            "Palindrome \n"
          ]
        }
      ],
      "source": [
        "\n",
        "\n",
        "x=int(input(\"Enter a number\"))\n",
        "temp=x\n",
        "rev=0\n",
        "\n",
        "while(x > 0):\n",
        "    a = x % 10\n",
        "    rev = rev*10 + a\n",
        "    x = x//10\n",
        "\n",
        "if (temp==rev):\n",
        "    print(\"Palindrome \")\n",
        "else:\n",
        "    print(\"Not Palindrome\")\n",
        ""
      ]
    }
  ]
}
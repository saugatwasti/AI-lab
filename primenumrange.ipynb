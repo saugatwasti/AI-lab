{
  "nbformat": 4,
  "nbformat_minor": 0,
  "metadata": {
    "colab": {
      "provenance": []
    },
    "kernelspec": {
      "name": "python3",
      "display_name": "Python 3"
    },
    "language_info": {
      "name": "python"
    }
  },
  "cells": [
    {
      "cell_type": "code",
      "execution_count": 7,
      "metadata": {
        "colab": {
          "base_uri": "https://localhost:8080/"
        },
        "id": "4V_jB5ZrxFUc",
        "outputId": "e0766047-e08a-4b16-df53-4cd9ae4f4ca3"
      },
      "outputs": [
        {
          "output_type": "stream",
          "name": "stdout",
          "text": [
            "Enter the range10\n",
            "20\n",
            "11\n",
            "13\n",
            "17\n",
            "19\n"
          ]
        }
      ],
      "source": [
        "def primeno_range():\n",
        "    a=int(input(\"Enter the range\"))\n",
        "    b=int(input())\n",
        "\n",
        "\n",
        "    i=0\n",
        "    j=0\n",
        "    for j in range(a,b):\n",
        "        count=0\n",
        "        i=0\n",
        "        for i in range(1,j):\n",
        "            if j%i==0:\n",
        "              count=count+1\n",
        "\n",
        "        if count<2:\n",
        "            print(j)\n",
        "\n",
        "\n",
        "primeno_range()"
      ]
    }
  ]
}
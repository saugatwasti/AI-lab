{
  "nbformat": 4,
  "nbformat_minor": 0,
  "metadata": {
    "colab": {
      "provenance": []
    },
    "kernelspec": {
      "name": "python3",
      "display_name": "Python 3"
    },
    "language_info": {
      "name": "python"
    }
  },
  "cells": [
    {
      "cell_type": "code",
      "execution_count": 1,
      "metadata": {
        "colab": {
          "base_uri": "https://localhost:8080/"
        },
        "id": "HlnR1LbPlFRb",
        "outputId": "a9d25d9e-869c-4cbf-ae29-90eeae0ff605"
      },
      "outputs": [
        {
          "output_type": "stream",
          "name": "stdout",
          "text": [
            "Let me pick a number between 1 to 100\n",
            "Hmmmm\n",
            "Now enter your guess.44\n",
            "Higher\n",
            "Now enter your guess.50\n",
            "Higher\n",
            "Now enter your guess.60\n",
            "Lower\n",
            "Now enter your guess.55\n",
            "Higher\n",
            "Now enter your guess.56\n",
            "Higher\n",
            "Now enter your guess.58\n",
            "Higher\n",
            "Now enter your guess.59\n",
            "Congratulations you guessed it right !!!\n"
          ]
        }
      ],
      "source": [
        "\n",
        "import time\n",
        "import random\n",
        "x=random.randint(1,100)\n",
        "print(\"Let me pick a number between 1 to 100\")\n",
        "time.sleep(1)\n",
        "print(\"Hmmmm\")\n",
        "time.sleep(1)\n",
        "y=int(0)\n",
        "while(x!=y):\n",
        "    y=int(input(\"Now enter your guess.\"))\n",
        "    if x>y:\n",
        "        print(\"Higher\")\n",
        "    elif x<y:\n",
        "        print(\"Lower\")\n",
        "    elif x==y:\n",
        "        print(\"Congratulations you guessed it right !!!\")\n",
        "\n"
      ]
    }
  ]
}
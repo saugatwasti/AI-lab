{
  "nbformat": 4,
  "nbformat_minor": 0,
  "metadata": {
    "colab": {
      "provenance": []
    },
    "kernelspec": {
      "name": "python3",
      "display_name": "Python 3"
    },
    "language_info": {
      "name": "python"
    }
  },
  "cells": [
    {
      "cell_type": "code",
      "execution_count": 8,
      "metadata": {
        "colab": {
          "base_uri": "https://localhost:8080/"
        },
        "id": "WKj5H35WdbJS",
        "outputId": "965413c5-2f1d-4cdf-a454-a6c60a87cae9"
      },
      "outputs": [
        {
          "output_type": "stream",
          "name": "stdout",
          "text": [
            "Enter the number 1\n",
            "The fibo series is 1 1\n",
            "2\n",
            "3\n",
            "5\n",
            "8\n",
            "13\n",
            "21\n",
            "34\n",
            "55\n",
            "89\n",
            "144\n"
          ]
        }
      ],
      "source": [
        "x=int(input(\"Enter the number\"))\n",
        "y=x\n",
        "print(f\"The fibo series is {x} {y}\")\n",
        "z=int(0)\n",
        "i=0\n",
        "for i in range(10):\n",
        "    z=x+y\n",
        "    print(z)\n",
        "    x=y\n",
        "    y=z"
      ]
    }
  ]
}